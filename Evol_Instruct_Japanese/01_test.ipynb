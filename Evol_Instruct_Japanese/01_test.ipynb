{
 "cells": [
  {
   "cell_type": "code",
   "execution_count": null,
   "metadata": {},
   "outputs": [],
   "source": [
    "!python main.py \\\n",
    "    --input_file \"./test_data/test.jsonl\" \\\n",
    "\t--output_file \"./test_output/test_generated.json\" \\\n",
    "\t--eliminated_file \"./test_output/test_eliminated.json\" \\\n",
    "\t--model \"mistralai/Mixtral-8x22B-Instruct-v0.1\" \\\n",
    "    --generations 4"
   ]
  }
 ],
 "metadata": {
  "kernelspec": {
   "display_name": "29_wizardLM",
   "language": "python",
   "name": "29_wizardlm"
  },
  "language_info": {
   "codemirror_mode": {
    "name": "ipython",
    "version": 3
   },
   "file_extension": ".py",
   "mimetype": "text/x-python",
   "name": "python",
   "nbconvert_exporter": "python",
   "pygments_lexer": "ipython3",
   "version": "3.11.0"
  }
 },
 "nbformat": 4,
 "nbformat_minor": 2
}
