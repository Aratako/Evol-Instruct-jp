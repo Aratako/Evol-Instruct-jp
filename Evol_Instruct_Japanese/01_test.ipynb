{
 "cells": [
  {
   "cell_type": "code",
   "execution_count": 13,
   "metadata": {},
   "outputs": [
    {
     "name": "stdout",
     "output_type": "stream",
     "text": [
      "開始：保存ファイルに既に0件のInstructionがあります。\n",
      "　　　12件を目標に生成を開始し、超えた場合自動でInstructionの生成を停止します。\n",
      "　　　進化世代数は 3 世代に設定されています。\n",
      "Evolution Progress:   0%|                                | 0/12 [00:00<?, ?it/s]\n",
      "Subset Progress:   0%|                                   | 0/18 [00:00<?, ?it/s]\u001b[A\n",
      "\n",
      "Generation Progress:   0%|                                | 0/3 [00:00<?, ?it/s]\u001b[A\u001b[A\n",
      "\n",
      "Generation Progress:  33%|████████                | 1/3 [00:05<00:11,  5.92s/it]\u001b[A\u001b[A\n",
      "\n",
      "Generation Progress:  67%|████████████████        | 2/3 [00:11<00:05,  5.88s/it]\u001b[A\u001b[A\n",
      "\n",
      "Generation Progress: 100%|████████████████████████| 3/3 [00:42<00:00, 14.26s/it]\u001b[A\u001b[A\n",
      "5件のInstructionを追加しました。\n",
      "Evolution Progress:  42%|██████████              | 5/12 [00:42<00:59,  8.56s/it]\n",
      "Subset Progress:   6%|█▌                         | 1/18 [00:42<12:07, 42.79s/it]\u001b[A\n",
      "\n",
      "Generation Progress:   0%|                                | 0/3 [00:00<?, ?it/s]\u001b[A\u001b[A\n",
      "\n",
      "Generation Progress:  33%|████████                | 1/3 [00:10<00:21, 10.54s/it]\u001b[A\u001b[A\n",
      "\n",
      "Generation Progress:  67%|████████████████        | 2/3 [00:20<00:10, 10.00s/it]\u001b[A\u001b[A\n",
      "\n",
      "Generation Progress: 100%|████████████████████████| 3/3 [00:51<00:00, 17.21s/it]\u001b[A\u001b[A\n",
      "8件のInstructionを追加しました。\n",
      "Evolution Progress: 13it [01:34,  7.10s/it]                                     目標数に達しました。ループを終了します。\n",
      "Subset Progress:   6%|█▌                         | 1/18 [01:34<26:45, 94.43s/it]\n",
      "Evolution Progress: 13it [01:34,  7.26s/it]\n",
      "完了：13件のInstructionを生成・追加しました。\n",
      "　　　最終的なInstruction数は13件です。\n"
     ]
    }
   ],
   "source": [
    "# !python main.py \\\n",
    "# \t--input_file \"./test_data/test_hh-rlhf-ja.jsonl\" \\\n",
    "# \t--output_file \"./test_output/test_generated.json\" \\\n",
    "# \t--eliminated_file \"./test_output/test_eliminated.json\" \\\n",
    "# \t--model \"mistralai/Mixtral-8x22B-Instruct-v0.1\" \\\n",
    "# \t--generations 4 \\\n",
    "# \t--num_instructions_to_generate 10\n",
    "!python main.py \\\n",
    "\t--input_file \"./data/alpaca_seed_tasks_jp.jsonl\" \\\n",
    "\t--output_file \"./output/new_generation.json\" \\\n",
    "\t--eliminated_file \"./output/eliminated.json\" \\\n",
    "\t--model \"mistralai/Mixtral-8x22B-Instruct-v0.1\" \\\n",
    "\t--generations 3 \\\n",
    "\t--num_instructions_to_generate 12 \\\n",
    "\t--subset_size 10\n",
    "# !python main.py \\\n",
    "# \t--input_file \"./test_data/test.jsonl\" \\\n",
    "# \t--output_file \"./test_output/test_generated_for_check_diversity_v1.3.json\" \\\n",
    "# \t--eliminated_file \"./test_output/test_eliminated_for_check_diversity_v1.3.json\" \\\n",
    "# \t--model \"mistralai/Mixtral-8x22B-Instruct-v0.1\" \\\n",
    "# \t--generations 6 \\\n",
    "# \t--num_instructions_to_generate 60\n",
    "# !python main.py \\\n",
    "# \t--input_file \"./data/alpaca_seed_tasks_jp.jsonl\" \\\n",
    "# \t--output_file \"./output/generated_20240511.json\" \\\n",
    "# \t--eliminated_file \"./output/eliminated_20240511.json\" \\\n",
    "# \t--model \"mistralai/Mixtral-8x22B-Instruct-v0.1\" \\\n",
    "# \t--generations 5 \\\n",
    "# \t--num_instructions_to_generate 500"
   ]
  },
  {
   "cell_type": "code",
   "execution_count": null,
   "metadata": {},
   "outputs": [],
   "source": []
  }
 ],
 "metadata": {
  "kernelspec": {
   "display_name": "29_wizardLM",
   "language": "python",
   "name": "29_wizardlm"
  },
  "language_info": {
   "codemirror_mode": {
    "name": "ipython",
    "version": 3
   },
   "file_extension": ".py",
   "mimetype": "text/x-python",
   "name": "python",
   "nbconvert_exporter": "python",
   "pygments_lexer": "ipython3",
   "version": "3.11.0"
  }
 },
 "nbformat": 4,
 "nbformat_minor": 2
}
