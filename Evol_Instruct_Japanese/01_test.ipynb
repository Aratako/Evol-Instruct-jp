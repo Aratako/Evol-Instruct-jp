{
 "cells": [
  {
   "cell_type": "code",
   "execution_count": null,
   "metadata": {},
   "outputs": [],
   "source": [
    "!python main.py \\\n",
    "\t--input_file \"./test_data/test.jsonl\" \\\n",
    "\t--output_file \"./test_output/test_generated.json\" \\\n",
    "\t--eliminated_file \"./test_output/test_eliminated.json\" \\\n",
    "\t--model \"mistralai/Mixtral-8x22B-Instruct-v0.1\" \\\n",
    "\t--generations 10 \\\n",
    "\t--num_instructions_to_generate 10\n",
    "# !python main.py \\\n",
    "# \t--input_file \"./test_data/test.jsonl\" \\\n",
    "# \t--output_file \"./test_output/test_generated_for_check_diversity_v1.3.json\" \\\n",
    "# \t--eliminated_file \"./test_output/test_eliminated_for_check_diversity_v1.3.json\" \\\n",
    "# \t--model \"mistralai/Mixtral-8x22B-Instruct-v0.1\" \\\n",
    "# \t--generations 6 \\\n",
    "# \t--num_instructions_to_generate 60\n",
    "# !python main.py \\\n",
    "# \t--input_file \"./data/seed_tasks_jp_cleaned.jsonl\" \\\n",
    "# \t--output_file \"./output/generated_20240510_v1.json\" \\\n",
    "# \t--eliminated_file \"./output/eliminated_20240510_v1.json\" \\\n",
    "# \t--model \"mistralai/Mixtral-8x22B-Instruct-v0.1\" \\\n",
    "# \t--generations 4 \\\n",
    "# \t--num_instructions_to_generate 1000"
   ]
  },
  {
   "cell_type": "code",
   "execution_count": null,
   "metadata": {},
   "outputs": [],
   "source": []
  }
 ],
 "metadata": {
  "kernelspec": {
   "display_name": "29_wizardLM",
   "language": "python",
   "name": "29_wizardlm"
  },
  "language_info": {
   "codemirror_mode": {
    "name": "ipython",
    "version": 3
   },
   "file_extension": ".py",
   "mimetype": "text/x-python",
   "name": "python",
   "nbconvert_exporter": "python",
   "pygments_lexer": "ipython3",
   "version": "3.11.0"
  }
 },
 "nbformat": 4,
 "nbformat_minor": 2
}
