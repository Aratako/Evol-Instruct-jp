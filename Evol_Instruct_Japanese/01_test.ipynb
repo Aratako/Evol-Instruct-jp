{
 "cells": [
  {
   "cell_type": "code",
   "execution_count": 4,
   "metadata": {},
   "outputs": [
    {
     "name": "stdout",
     "output_type": "stream",
     "text": [
      "開始：保存ファイルに既に138件のInstructionがあります。\n",
      "　　　1000件を目標に生成を開始し、超えた場合自動でInstructionの生成を停止します。\n",
      "　　　進化世代数は 5 世代に設定されています。\n",
      " 14%|██████▌                                         | 138/1000 [00:00<?, ?it/s]\n",
      "  0%|                                                     | 0/5 [00:00<?, ?it/s]\u001b[A\n",
      " 20%|█████████                                    | 1/5 [01:03<04:14, 63.65s/it]\u001b[A\n",
      " 40%|██████████████████                           | 2/5 [02:19<03:32, 70.67s/it]\u001b[A\n",
      " 60%|███████████████████████████                  | 3/5 [03:39<02:29, 74.84s/it]\u001b[A\n",
      " 80%|████████████████████████████████████         | 4/5 [05:02<01:18, 78.13s/it]\u001b[A\n",
      "100%|█████████████████████████████████████████████| 5/5 [08:18<00:00, 99.66s/it]\u001b[A\n",
      "75件のInstructionを追加しました。\n",
      " 21%|████████                              | 213/1000 [08:18<1:27:09,  6.64s/it]\n",
      "  0%|                                                     | 0/5 [00:00<?, ?it/s]\u001b[A\n",
      " 20%|█████████                                    | 1/5 [01:04<04:19, 64.84s/it]\u001b[A\n",
      " 40%|██████████████████                           | 2/5 [02:14<03:22, 67.59s/it]\u001b[A\n",
      " 60%|███████████████████████████                  | 3/5 [03:24<02:17, 68.97s/it]\u001b[A\n",
      " 80%|████████████████████████████████████         | 4/5 [04:44<01:13, 73.03s/it]\u001b[A\n",
      "100%|█████████████████████████████████████████████| 5/5 [08:10<00:00, 98.15s/it]\u001b[A\n",
      "69件のInstructionを追加しました。\n",
      " 28%|██████████▋                           | 282/1000 [16:29<1:22:41,  6.91s/it]\n",
      "  0%|                                                     | 0/5 [00:00<?, ?it/s]\u001b[A\n",
      " 20%|█████████                                    | 1/5 [01:14<04:59, 74.80s/it]\u001b[A\n",
      " 40%|██████████████████                           | 2/5 [02:27<03:40, 73.55s/it]\u001b[A\n",
      " 60%|███████████████████████████                  | 3/5 [03:39<02:26, 73.04s/it]\u001b[A\n",
      " 80%|████████████████████████████████████         | 4/5 [04:56<01:14, 74.61s/it]\u001b[A\n",
      "100%|█████████████████████████████████████████████| 5/5 [08:17<00:00, 99.44s/it]\u001b[A\n",
      "76件のInstructionを追加しました。\n",
      " 36%|█████████████▌                        | 358/1000 [24:46<1:12:05,  6.74s/it]\n",
      "  0%|                                                     | 0/5 [00:00<?, ?it/s]\u001b[A\n",
      " 20%|█████████                                    | 1/5 [01:04<04:16, 64.07s/it]\u001b[A\n",
      " 40%|██████████████████                           | 2/5 [02:22<03:38, 72.68s/it]\u001b[A\n",
      " 60%|███████████████████████████                  | 3/5 [03:50<02:39, 79.72s/it]\u001b[A\n",
      " 80%|████████████████████████████████████         | 4/5 [05:16<01:22, 82.05s/it]\u001b[A\n",
      "100%|████████████████████████████████████████████| 5/5 [08:35<00:00, 103.06s/it]\u001b[A\n",
      "68件のInstructionを追加しました。\n",
      " 43%|████████████████▏                     | 426/1000 [33:21<1:07:28,  7.05s/it]\n",
      "  0%|                                                     | 0/5 [00:00<?, ?it/s]\u001b[A^C\n"
     ]
    }
   ],
   "source": [
    "# !python main.py \\\n",
    "# \t--input_file \"./test_data/test.jsonl\" \\\n",
    "# \t--output_file \"./test_output/test_generated.json\" \\\n",
    "# \t--eliminated_file \"./test_output/test_eliminated.json\" \\\n",
    "# \t--model \"mistralai/Mixtral-8x22B-Instruct-v0.1\" \\\n",
    "# \t--generations 10 \\\n",
    "# \t--num_instructions_to_generate 10\n",
    "# !python main.py \\\n",
    "# \t--input_file \"./test_data/test.jsonl\" \\\n",
    "# \t--output_file \"./test_output/test_generated_for_check_diversity_v1.3.json\" \\\n",
    "# \t--eliminated_file \"./test_output/test_eliminated_for_check_diversity_v1.3.json\" \\\n",
    "# \t--model \"mistralai/Mixtral-8x22B-Instruct-v0.1\" \\\n",
    "# \t--generations 6 \\\n",
    "# \t--num_instructions_to_generate 60\n",
    "!python main.py \\\n",
    "\t--input_file \"./data/alpaca_seed_tasks_jp.jsonl\" \\\n",
    "\t--output_file \"./output/generated_20240511.json\" \\\n",
    "\t--eliminated_file \"./output/eliminated_20240511.json\" \\\n",
    "\t--model \"mistralai/Mixtral-8x22B-Instruct-v0.1\" \\\n",
    "\t--generations 5 \\\n",
    "\t--num_instructions_to_generate 1000"
   ]
  },
  {
   "cell_type": "code",
   "execution_count": null,
   "metadata": {},
   "outputs": [],
   "source": []
  }
 ],
 "metadata": {
  "kernelspec": {
   "display_name": "29_wizardLM",
   "language": "python",
   "name": "29_wizardlm"
  },
  "language_info": {
   "codemirror_mode": {
    "name": "ipython",
    "version": 3
   },
   "file_extension": ".py",
   "mimetype": "text/x-python",
   "name": "python",
   "nbconvert_exporter": "python",
   "pygments_lexer": "ipython3",
   "version": "3.11.0"
  }
 },
 "nbformat": 4,
 "nbformat_minor": 2
}
